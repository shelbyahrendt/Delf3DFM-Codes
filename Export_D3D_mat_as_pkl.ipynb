{
 "cells": [
  {
   "cell_type": "code",
   "execution_count": 1,
   "id": "4d158c6b-99b7-4d2f-925c-8706fd190ad3",
   "metadata": {},
   "outputs": [],
   "source": [
    "import mat73\n",
    "import pickle"
   ]
  },
  {
   "cell_type": "markdown",
   "id": "8ef5ad3b-5470-493c-b60d-6f7ec76eea1f",
   "metadata": {},
   "source": [
    "##### Must be a MATLAB version 7.3 file\n",
    "This can be formatted when exporting in MATLAB"
   ]
  },
  {
   "cell_type": "code",
   "execution_count": 2,
   "id": "8ca99564-7449-4034-b9ea-c54d695d7851",
   "metadata": {},
   "outputs": [
    {
     "name": "stderr",
     "output_type": "stream",
     "text": [
      "ERROR:root:ERROR: MATLAB type not supported: table, (uint32)\n",
      "ERROR:root:ERROR: MATLAB type not supported: table, (uint32)\n"
     ]
    }
   ],
   "source": [
    "# mat_contents = mat73.loadmat(r'../data/matlab_nomorpho_v7pt3.mat')\n",
    "mat_contents = mat73.loadmat(r'../data/matlab_morpho.mat')"
   ]
  },
  {
   "cell_type": "code",
   "execution_count": 3,
   "id": "2f0276d9-9acc-422d-937b-e92534f4448d",
   "metadata": {},
   "outputs": [],
   "source": [
    "# with open(r'../data/NOmorpho_d3d_output.p', \"wb\") as f:\n",
    "#     pickle.dump(mat_contents, f)\n",
    "    \n",
    "with open(r'../data/morpho_d3d_output.p', \"wb\") as f:\n",
    "    pickle.dump(mat_contents, f)"
   ]
  }
 ],
 "metadata": {
  "kernelspec": {
   "display_name": "Python 3 (ipykernel)",
   "language": "python",
   "name": "python3"
  },
  "language_info": {
   "codemirror_mode": {
    "name": "ipython",
    "version": 3
   },
   "file_extension": ".py",
   "mimetype": "text/x-python",
   "name": "python",
   "nbconvert_exporter": "python",
   "pygments_lexer": "ipython3",
   "version": "3.10.8"
  }
 },
 "nbformat": 4,
 "nbformat_minor": 5
}
