{
 "cells": [
  {
   "cell_type": "code",
   "execution_count": null,
   "id": "8e2b1d3c-7ed8-4c56-93f5-d12d8a582d65",
   "metadata": {},
   "outputs": [],
   "source": [
    "import pandas as pd\n",
    "import pickle\n",
    "import numpy as np\n",
    "import matplotlib.pyplot as mp\n",
    "import matplotlib as mpl\n",
    "import geopandas as gpd\n",
    "from matplotlib_scalebar.scalebar import ScaleBar\n",
    "import contextily as ctx\n",
    "# import geovoronoi\n",
    "from geovoronoi import voronoi_regions_from_coords\n",
    "from geovoronoi.plotting import subplot_for_map, plot_voronoi_polys_with_points_in_area\n",
    "from shapely.geometry import MultiPoint, Point\n",
    "\n",
    "import warnings\n",
    "warnings.simplefilter(action='ignore', category=pd.errors.PerformanceWarning)"
   ]
  },
  {
   "cell_type": "code",
   "execution_count": null,
   "id": "39b45d86-c398-4479-9e9d-866e234e4e28",
   "metadata": {},
   "outputs": [],
   "source": [
    "from shapely.ops import voronoi_diagram"
   ]
  },
  {
   "cell_type": "markdown",
   "id": "52b6625a-5e5d-4960-8e18-47919d9e577f",
   "metadata": {},
   "source": [
    "## Read D3D results (entire grid)"
   ]
  },
  {
   "cell_type": "code",
   "execution_count": null,
   "id": "c1febc2f-72ad-40d1-8c62-43c063793cfb",
   "metadata": {},
   "outputs": [],
   "source": [
    "# filenames = ['morpho_d3d_output.p', 'NOmorpho_d3d_output.p']\n",
    "filename = 'morpho_d3d_output.p'\n",
    "file = open(r'../data/%s'%filename, 'rb')\n",
    "mat_contents = pickle.load(file) #load from pickle file"
   ]
  },
  {
   "cell_type": "markdown",
   "id": "b78b2a73-ba61-49a9-8385-ce639f073abf",
   "metadata": {},
   "source": [
    "#### Norm vals for matching colormaps in plots"
   ]
  },
  {
   "cell_type": "code",
   "execution_count": null,
   "id": "3f331d3d-23e7-4d76-9c62-b45498d8b8f9",
   "metadata": {},
   "outputs": [],
   "source": [
    "def norm_vals(array, vmin=None, vmax=None):\n",
    "    if all(v is not None for v in [vmin, vmax]):\n",
    "        return (array - vmin)/(vmax - vmin)\n",
    "    else:\n",
    "        return (array - min(array))/(max(array) - min(array))"
   ]
  },
  {
   "cell_type": "markdown",
   "id": "b3b21f7a-107a-4e8e-bec8-c7628a17426a",
   "metadata": {},
   "source": [
    "### create voronoi polygons for region"
   ]
  },
  {
   "cell_type": "markdown",
   "id": "decf115e-1330-40de-986e-156038cfdf71",
   "metadata": {},
   "source": [
    "https://shapely.readthedocs.io/en/stable/manual.html#voronoi-diagram"
   ]
  },
  {
   "cell_type": "code",
   "execution_count": null,
   "id": "a57dcf6b-ff67-4439-b18c-6f2ea6d55d55",
   "metadata": {},
   "outputs": [],
   "source": [
    "# x_bounds = [547800, 548100]\n",
    "# y_bounds = [5417650,5418350]\n",
    "subset = True\n",
    "if subset == True:\n",
    "    #bounds corresponding to qgis inset\n",
    "    x_bounds = [547000, 549500]\n",
    "    y_bounds = [5416200,5419000]    \n",
    "    #wider region that includes 'avulsion/new' channel\n",
    "    # x_bounds = [547450, 548400]\n",
    "    # y_bounds = [5417350,5418750]\n",
    "    #region that matches flood arrows\n",
    "    # x_bounds = [5417650,5418350]\n",
    "    # y_bounds = [547800, 548100]\n",
    "if subset == False: #SUPER SLOW FOR ENTIER DOMAIN!!!\n",
    "    x_bounds = [mat_contents['G']['face']['FlowElem_x'].min(), mat_contents['G']['face']['FlowElem_x'].max()]\n",
    "    y_bounds = [mat_contents['G']['face']['FlowElem_y'].min(), mat_contents['G']['face']['FlowElem_y'].max()]\n",
    "\n",
    "spatial_filter = ((mat_contents['G']['face']['FlowElem_x'] >= x_bounds[0]) & \\\n",
    "                  (mat_contents['G']['face']['FlowElem_x'] <= x_bounds[1]) & \\\n",
    "                  (mat_contents['G']['face']['FlowElem_y'] >= y_bounds[0]) & \\\n",
    "                  (mat_contents['G']['face']['FlowElem_y'] <= y_bounds[1])\n",
    "                 )"
   ]
  },
  {
   "cell_type": "code",
   "execution_count": null,
   "id": "65320d29-c940-47ed-b5f4-4a2f826bf344",
   "metadata": {},
   "outputs": [],
   "source": [
    "d3d_coords = np.array([(x,y) for x, y in zip(mat_contents['G']['face']['FlowElem_x'][spatial_filter],\n",
    "                                    mat_contents['G']['face']['FlowElem_y'][spatial_filter])])\n",
    "mtp_d3d_coords = MultiPoint(d3d_coords)"
   ]
  },
  {
   "cell_type": "code",
   "execution_count": null,
   "id": "20c5123f-881b-4097-bc36-deb9a2d530f8",
   "metadata": {},
   "outputs": [],
   "source": [
    "if subset == True:\n",
    "    polys, pts = voronoi_regions_from_coords(d3d_coords, mtp_d3d_coords.convex_hull)\n",
    "if subset == False:\n",
    "    polys, pts = voronoi_regions_from_coords(d3d_coords, d3d_poly)\n",
    "# voronoi_regions = voronoi_diagram(mtp_d3d_coords, envelope=mtp_d3d_coords.convex_hull) #doesn't organize polygons!!!"
   ]
  },
  {
   "cell_type": "markdown",
   "id": "678182d7-bd3b-4ceb-8800-e053ff7b6958",
   "metadata": {},
   "source": [
    "### Plot initial & Final elv"
   ]
  },
  {
   "cell_type": "code",
   "execution_count": null,
   "id": "b67ed552-7ade-447c-88ca-4ac4289b531b",
   "metadata": {},
   "outputs": [],
   "source": [
    "ordered_polys = [polys[i] for i in range(len(polys))]\n",
    "ordered_centers = [Point(d3d_coords[pts[i]][0]) for i in range(len(polys))]\n",
    "\n",
    "Zt0 = mat_contents['D'][0][0]['face']['z_cc'][spatial_filter]\n",
    "ordered_Zt0 = [Zt0[pts[i]][0] for i in range(len(polys))]\n",
    "\n",
    "Ztend = mat_contents['D'][450][0]['face']['z_cc'][spatial_filter]\n",
    "ordered_Ztend = [Ztend[pts[i]][0] for i in range(len(polys))]\n",
    "\n",
    "dfZ = pd.DataFrame()\n",
    "dfZ['polys'] = ordered_polys\n",
    "dfZ['starting_elev'] = ordered_Zt0\n",
    "dfZ['ending_elev'] = ordered_Ztend\n",
    "\n",
    "gdfZ = gpd.GeoDataFrame(dfZ, crs=32610, geometry=dfZ.polys)\n",
    "poly_buffer = 40\n",
    "\n",
    "#just bar and avulsion channel\n",
    "# vlims = (20, 30)\n",
    "# cmap = 'cividis'\n",
    "#for qgis\n",
    "vlims = (22.8, 31.4)\n",
    "cmap='magma_r'\n",
    "\n",
    "f, (ax, ax1) = mp.subplots(ncols=2, figsize=(12,5))\n",
    "gdfZ.plot(column='starting_elev', cmap=cmap, ax=ax, legend=True, vmin=vlims[0], vmax=vlims[1], legend_kwds={'label': 'elevation (m)'})\n",
    "# nooksack_poly.buffer(poly_buffer).plot(\n",
    "#     ax=ax, zorder=1, color='none', edgecolor='k',\n",
    "#     linewidth=1.5, linestyle='--', alpha=0.75)\n",
    "\n",
    "ax.add_artist(ScaleBar(1))\n",
    "ax.axis('off')\n",
    "ax.set_title('initial elevation')\n",
    "\n",
    "\n",
    "gdfZ.plot(column='ending_elev', cmap=cmap, ax=ax1, legend=True, vmin=vlims[0], vmax=vlims[1], legend_kwds={'label': 'elevation (m)'})\n",
    "# nooksack_poly.buffer(poly_buffer).plot(\n",
    "#     ax=ax1, zorder=1, color='none', edgecolor='k',\n",
    "#     linewidth=1.5, linestyle='--', alpha=0.75)\n",
    "\n",
    "ax1.add_artist(ScaleBar(1))\n",
    "ax1.axis('off')\n",
    "ax1.set_title('final elevation')\n",
    "#plot without avulsion channel\n",
    "# ax.set_ylim(5417400,5418500)\n",
    "# ax.set_xlim(547600, 548255)\n",
    "# ax1.set_ylim(5417400,5418500)\n",
    "# ax1.set_xlim(547600, 548255)\n",
    "#blot using bounds of filter\n",
    "ax.set_ylim(y_bounds[0], y_bounds[1])\n",
    "ax.set_xlim(x_bounds[0], x_bounds[1])\n",
    "ax1.set_ylim(y_bounds[0], y_bounds[1])\n",
    "ax1.set_xlim(x_bounds[0], x_bounds[1])\n",
    "mp.subplots_adjust(wspace=0.05)\n",
    "\n",
    "# mp.savefig(r'..\\figs\\model_output\\general_output\\morpho_on\\starting_and_ending_elev_new_channels.png',\n",
    "#            dpi=200,\n",
    "#            bbox_inches='tight')  "
   ]
  }
 ],
 "metadata": {
  "kernelspec": {
   "display_name": "Python 3 (ipykernel)",
   "language": "python",
   "name": "python3"
  },
  "language_info": {
   "codemirror_mode": {
    "name": "ipython",
    "version": 3
   },
   "file_extension": ".py",
   "mimetype": "text/x-python",
   "name": "python",
   "nbconvert_exporter": "python",
   "pygments_lexer": "ipython3",
   "version": "3.10.8"
  }
 },
 "nbformat": 4,
 "nbformat_minor": 5
}
